{
 "cells": [
  {
   "cell_type": "markdown",
   "metadata": {},
   "source": [
    "# Python source\n",
    "\n",
    "> Helpers to create and use llms.txt files"
   ]
  },
  {
   "cell_type": "code",
   "execution_count": 1,
   "metadata": {},
   "outputs": [],
   "source": [
    "#| default_exp core"
   ]
  },
  {
   "cell_type": "code",
   "execution_count": 2,
   "metadata": {},
   "outputs": [],
   "source": [
    "#| export\n",
    "import re"
   ]
  },
  {
   "cell_type": "code",
   "execution_count": 3,
   "metadata": {},
   "outputs": [],
   "source": [
    "#| hide\n",
    "from nbdev.showdoc import *\n",
    "import nbdev; nbdev.nbdev_export()"
   ]
  },
  {
   "cell_type": "code",
   "execution_count": 4,
   "metadata": {},
   "outputs": [],
   "source": [
    "#| export\n",
    "from fastcore.utils import *\n",
    "from fastcore.xml import *\n",
    "from fastcore.script import *\n",
    "import httpx"
   ]
  },
  {
   "cell_type": "markdown",
   "metadata": {},
   "source": [
    "## Introduction"
   ]
  },
  {
   "cell_type": "markdown",
   "metadata": {},
   "source": [
    "The llms.txt file spec is for files located in the path `llms.txt` of a website (or, optionally, in a subpath). `llms-sample.txt` is a simple example. A file following the spec contains the following sections as markdown, in the specific order:\n",
    "\n",
    "- An H1 with the name of the project or site. This is the only required section\n",
    "- A blockquote with a short summary of the project, containing key information necessary for understanding the rest of the file\n",
    "- Zero or more markdown sections (e.g. paragraphs, lists, etc) of any type, except headings, containing more detailed information about the project and how to interpret the provided files\n",
    "- Zero or more markdown sections delimited by H2 headers, containing \"file lists\" of URLs where further detail is available\n",
    "  - Each \"file list\" is a markdown list, containing a required markdown hyperlink `[name](url)`, then optionally a `:` and notes about the file.\n",
    "\n",
    "Here's the start of a sample llms.txt file we'll use for testing:"
   ]
  },
  {
   "cell_type": "code",
   "execution_count": 5,
   "metadata": {},
   "outputs": [
    {
     "name": "stdout",
     "output_type": "stream",
     "text": [
      "# FastHTML\n",
      "\n",
      "> FastHTML is a python library which brings together Starlette, Uvicorn, HTMX, and fastcore's `FT` \"FastTags\" into a library for creating server-rendered hypermedia applications.\n",
      "\n",
      "FastHTML is written by Answer.AI, an organization which follows the fast.ai style guide instead of PEP 8, so most examples follow fast.ai style.\n",
      "\n",
      "## Docs\n",
      "\n",
      "- [FastHTML quick start](https://docs.fastht.ml/tutorials/quickstart_for_web_devs.html.md): A brief overview of many FastHTML feature\n"
     ]
    }
   ],
   "source": [
    "samp = Path('llms-sample.txt').read_text()\n",
    "print(samp[:480])"
   ]
  },
  {
   "cell_type": "markdown",
   "metadata": {},
   "source": [
    "## Reading"
   ]
  },
  {
   "cell_type": "markdown",
   "metadata": {},
   "source": [
    "We'll implement `parse_llms_file` to pull out the sections of llms.txt into a simple data structure."
   ]
  },
  {
   "cell_type": "code",
   "execution_count": 6,
   "metadata": {},
   "outputs": [],
   "source": [
    "%ai reset"
   ]
  },
  {
   "cell_type": "code",
   "execution_count": 7,
   "metadata": {},
   "outputs": [],
   "source": [
    "#| export\n",
    "def _opt_re(s): return f'(?:{s})?'\n",
    "\n",
    "def _parse_llms_txt(txt):\n",
    "    pat = r\"^#\\s*(?P<title>[^\\n]+)\\n+\"\n",
    "    pat += _opt_re(r\"^>\\s*(?P<summary>.+?)\\n+\")\n",
    "    pat += r\"(?P<rest>.*)\"\n",
    "    match = re.search(pat, txt, flags=(re.DOTALL | re.MULTILINE))\n",
    "    return match.groupdict() if match else None"
   ]
  },
  {
   "cell_type": "code",
   "execution_count": 8,
   "metadata": {},
   "outputs": [
    {
     "data": {
      "text/plain": [
       "'FastHTML is a python library which brings together Starlette, Uvicorn, HTMX, and fastcore\\'s `FT` \"FastTags\" into a library for creating server-rendered hypermedia applications.'"
      ]
     },
     "execution_count": 8,
     "metadata": {},
     "output_type": "execute_result"
    }
   ],
   "source": [
    "match = _parse_llms_txt(samp)\n",
    "match['summary']"
   ]
  },
  {
   "cell_type": "code",
   "execution_count": 9,
   "metadata": {},
   "outputs": [],
   "source": [
    "#| export\n",
    "def _split_on_h2(text):\n",
    "    parts = re.split(r'\\n?## ', text)\n",
    "    details = parts[0].strip() if parts[0].strip() else None\n",
    "    sections = [f\"## {p.strip()}\" for p in parts[1:] if p.strip()]\n",
    "    return details, sections"
   ]
  },
  {
   "cell_type": "code",
   "execution_count": 10,
   "metadata": {},
   "outputs": [
    {
     "data": {
      "text/plain": [
       "'FastHTML is written by Answer.AI, an organization which follows the fast.ai style guide instead of PEP 8, so most examples follow fast.ai style.'"
      ]
     },
     "execution_count": 10,
     "metadata": {},
     "output_type": "execute_result"
    }
   ],
   "source": [
    "rest = match['rest']\n",
    "details,sections = _split_on_h2(rest)\n",
    "details"
   ]
  },
  {
   "cell_type": "code",
   "execution_count": 11,
   "metadata": {},
   "outputs": [],
   "source": [
    "#| export\n",
    "def _parse_section(section):\n",
    "    title = section.split('\\n', 1)[0].strip('# ')\n",
    "    links = re.findall(r'\\[(.+?)\\]\\((.+?)\\)(?:: (.+?))?(?=\\n|$)', section)\n",
    "    return title, [(t, u, d.strip() if d else None) for t, u, d in links]"
   ]
  },
  {
   "cell_type": "code",
   "execution_count": 12,
   "metadata": {},
   "outputs": [
    {
     "data": {
      "text/plain": [
       "[('Todo list application',\n",
       "  'https://raw.githubusercontent.com/AnswerDotAI/fasthtml/main/examples/adv_app.py',\n",
       "  'Detailed walk-thru of a complete CRUD app in FastHTML showing idiomatic use of FastHTML and HTMX patterns.')]"
      ]
     },
     "execution_count": 12,
     "metadata": {},
     "output_type": "execute_result"
    }
   ],
   "source": [
    "sections_dict = dict(_parse_section(s) for s in sections)\n",
    "sections_dict['Examples']"
   ]
  },
  {
   "cell_type": "code",
   "execution_count": 13,
   "metadata": {},
   "outputs": [],
   "source": [
    "#| export\n",
    "def parse_llms_file(txt):\n",
    "    parsed = _parse_llms_txt(txt)\n",
    "    if not parsed: return None\n",
    "    parsed['details'], sections = _split_on_h2(parsed['rest'])\n",
    "    parsed['sections'] = dict(_parse_section(s) for s in sections)\n",
    "    del parsed['rest']\n",
    "    return dict2obj(parsed)"
   ]
  },
  {
   "cell_type": "code",
   "execution_count": 14,
   "metadata": {},
   "outputs": [
    {
     "data": {
      "text/plain": [
       "'FastHTML is a python library which brings together Starlette, Uvicorn, HTMX, and fastcore\\'s `FT` \"FastTags\" into a library for creating server-rendered hypermedia applications.'"
      ]
     },
     "execution_count": 14,
     "metadata": {},
     "output_type": "execute_result"
    }
   ],
   "source": [
    "llmsd = parse_llms_file(samp)\n",
    "llmsd.summary"
   ]
  },
  {
   "cell_type": "code",
   "execution_count": 15,
   "metadata": {},
   "outputs": [
    {
     "data": {
      "text/plain": [
       "(#1) [('Todo list application', 'https://raw.githubusercontent.com/AnswerDotAI/fasthtml/main/examples/adv_app.py', 'Detailed walk-thru of a complete CRUD app in FastHTML showing idiomatic use of FastHTML and HTMX patterns.')]"
      ]
     },
     "execution_count": 15,
     "metadata": {},
     "output_type": "execute_result"
    }
   ],
   "source": [
    "llmsd.sections.Examples"
   ]
  },
  {
   "cell_type": "markdown",
   "metadata": {},
   "source": [
    "## XML conversion"
   ]
  },
  {
   "cell_type": "markdown",
   "metadata": {},
   "source": [
    "For some LLMs such as Claude, XML format is preferred, so we'll provide a function to create that format."
   ]
  },
  {
   "cell_type": "code",
   "execution_count": 16,
   "metadata": {},
   "outputs": [],
   "source": [
    "#| export\n",
    "Sections = partial(ft, 'sections')\n",
    "Project = partial(ft, 'project')"
   ]
  },
  {
   "cell_type": "code",
   "execution_count": 17,
   "metadata": {},
   "outputs": [],
   "source": [
    "#| export\n",
    "def Doc(url, **kw):\n",
    "    \"Create a `Doc` FT object with the text retrieved from `url` as the child, and `kw` as attrs.\"\n",
    "    re_comment = re.compile('^<!--.*-->$', flags=re.MULTILINE)\n",
    "    txt = [o for o in httpx.get(url).text.splitlines() if not re_comment.search(o)]\n",
    "    return ft('doc', '\\n'.join(txt), **kw)"
   ]
  },
  {
   "cell_type": "code",
   "execution_count": 18,
   "metadata": {},
   "outputs": [],
   "source": [
    "#| export\n",
    "def Section(nm, items):\n",
    "    \"Create a `Section` FT object containing a `Doc` object for each child.\"\n",
    "    return ft(nm, *[Doc(title=title, url=url, detl=detl) for title,url,detl in items])"
   ]
  },
  {
   "cell_type": "code",
   "execution_count": 19,
   "metadata": {},
   "outputs": [],
   "source": [
    "#| export\n",
    "def mk_ctx(d, optional=True):\n",
    "    \"Create a `Project` with a `Section` for each H2 part in `d`, optionally skipping the 'optional' section.\"\n",
    "    skip = '' if optional else 'Optional'\n",
    "    sections = [Section(k, v) for k,v in d.sections.items() if k!=skip]\n",
    "    return Project(title=d.title, summary=d.summary, details=d.details)(*sections)"
   ]
  },
  {
   "cell_type": "code",
   "execution_count": 26,
   "metadata": {},
   "outputs": [
    {
     "name": "stdout",
     "output_type": "stream",
     "text": [
      "<project title=\"FastHTML\" summary='FastHTML is a python library which brings together Starlette, Uvicorn, HTMX, and fastcore&#39;s `FT` \"FastTags\" into a library for creating server-rendered hypermedia applications.' details=\"FastHTML is written by Answer.AI, an organization which follows the fast.ai style guide instead of PEP 8, so most examples follow fast.ai style.\">\n",
      "  <docs>\n",
      "    <doc title=\"FastHTML quick start\" detl=\"A brief overview of many FastHTML features\"># Web Devs Quickstar\n"
     ]
    }
   ],
   "source": [
    "ctx = mk_ctx(llmsd)\n",
    "print(to_xml(ctx, do_escape=False)[:490])"
   ]
  },
  {
   "cell_type": "code",
   "execution_count": 30,
   "metadata": {},
   "outputs": [],
   "source": [
    "#| export\n",
    "def get_sizes(ctx):\n",
    "    \"Get the size of each section of the LLM context\"\n",
    "    return {o.tag:{p.title:len(p.children[0]) for p in o.children} for o in ctx.children}"
   ]
  },
  {
   "cell_type": "code",
   "execution_count": 29,
   "metadata": {},
   "outputs": [
    {
     "data": {
      "text/plain": [
       "{'docs': {'FastHTML quick start': 21997,\n",
       "  'HTMX reference': 26427,\n",
       "  'Starlette quick guide': 7936},\n",
       " 'examples': {'Todo list application': 18588},\n",
       " 'optional': {'Starlette full documentation': 48331}}"
      ]
     },
     "execution_count": 29,
     "metadata": {},
     "output_type": "execute_result"
    }
   ],
   "source": [
    "get_sizes(ctx)"
   ]
  },
  {
   "cell_type": "code",
   "execution_count": 31,
   "metadata": {},
   "outputs": [
    {
     "data": {
      "text/plain": [
       "124335"
      ]
     },
     "execution_count": 31,
     "metadata": {},
     "output_type": "execute_result"
    }
   ],
   "source": [
    "Path('fasthtml.md').write_text(to_xml(ctx, do_escape=False))"
   ]
  },
  {
   "cell_type": "code",
   "execution_count": 40,
   "metadata": {},
   "outputs": [],
   "source": [
    "#| export\n",
    "@call_parse\n",
    "def llms_txt2ctx(\n",
    "    fname:str, # File name to read\n",
    "    optional:bool_arg=True # Skip 'optional' section?\n",
    "):\n",
    "    \"Print a `Project` with a `Section` for each H2 part in file read from `fname`, optionally skipping the 'optional' section.\"\n",
    "    d = parse_llms_file(Path(fname).read_text())\n",
    "    ctx = mk_ctx(d, optional=optional)\n",
    "    print(to_xml(ctx, do_escape=False))"
   ]
  },
  {
   "cell_type": "code",
   "execution_count": 43,
   "metadata": {},
   "outputs": [],
   "source": [
    "!llms_txt2ctx llms-sample.txt > fasthtml.md"
   ]
  },
  {
   "cell_type": "markdown",
   "metadata": {},
   "source": [
    "## Export -"
   ]
  },
  {
   "cell_type": "code",
   "execution_count": 44,
   "metadata": {},
   "outputs": [],
   "source": [
    "#|hide\n",
    "#|eval: false\n",
    "from nbdev import nbdev_export\n",
    "nbdev_export()"
   ]
  },
  {
   "cell_type": "code",
   "execution_count": null,
   "metadata": {},
   "outputs": [],
   "source": []
  }
 ],
 "metadata": {
  "kernelspec": {
   "display_name": "Python 3 (ipykernel)",
   "language": "python",
   "name": "python3"
  },
  "language_info": {
   "codemirror_mode": {
    "name": "ipython",
    "version": 3
   },
   "file_extension": ".py",
   "mimetype": "text/x-python",
   "name": "python",
   "nbconvert_exporter": "python",
   "pygments_lexer": "ipython3",
   "version": "3.11.8"
  }
 },
 "nbformat": 4,
 "nbformat_minor": 4
}
